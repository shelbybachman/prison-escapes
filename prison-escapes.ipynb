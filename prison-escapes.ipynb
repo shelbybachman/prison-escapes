{
 "cells": [
  {
   "cell_type": "markdown",
   "metadata": {},
   "source": [
    "# Analysis of helicopter prison escape attempts"
   ]
  },
  {
   "cell_type": "markdown",
   "metadata": {},
   "source": [
    "In this project, I analyze data from Wikipedia ([source](https://en.wikipedia.org/wiki/List_of_helicopter_prison_escapes)) examining prison escape attempts by helicopter.\n",
    "\n",
    "In this report, I tackle several questions:\n",
    "- How has the number of prison escape attempts per year evolved over time?\n",
    "- In which countries were prison escape attempts by helicopter most common?\n",
    "- What proportion of escape attempts were successful, and in which countries did the most successful attempts occur?"
   ]
  },
  {
   "cell_type": "markdown",
   "metadata": {},
   "source": [
    "## Setup"
   ]
  },
  {
   "cell_type": "markdown",
   "metadata": {},
   "source": [
    "We start by importing relevant libraries."
   ]
  },
  {
   "cell_type": "code",
   "execution_count": 186,
   "metadata": {},
   "outputs": [],
   "source": [
    "import pandas as pd\n",
    "import re\n",
    "import matplotlib.pyplot as plt\n",
    "from IPython.core.display import display, HTML\n",
    "%matplotlib inline"
   ]
  },
  {
   "cell_type": "markdown",
   "metadata": {},
   "source": [
    "## Retrieve data"
   ]
  },
  {
   "cell_type": "markdown",
   "metadata": {},
   "source": [
    "Next, we retrieve the data from the [list of helicopter prison escapes](https://en.wikipedia.org/wiki/List_of_helicopter_prison_escapes) Wikipedia article."
   ]
  },
  {
   "cell_type": "code",
   "execution_count": 187,
   "metadata": {},
   "outputs": [],
   "source": [
    "url = 'https://en.wikipedia.org/wiki/List_of_helicopter_prison_escapes'\n",
    "df = pd.read_html(url)[1]\n",
    "data = df.to_numpy().tolist()"
   ]
  },
  {
   "cell_type": "markdown",
   "metadata": {},
   "source": [
    "For a concise preview of the data, we remove the \"Details\" in each row of the data, which contains a large amount of text about each escape:"
   ]
  },
  {
   "cell_type": "code",
   "execution_count": 188,
   "metadata": {},
   "outputs": [],
   "source": [
    "# modify data so that defails are not present for preview\n",
    "index = 0\n",
    "for row in data:\n",
    "    data[index] = row[:5]\n",
    "    index += 1"
   ]
  },
  {
   "cell_type": "markdown",
   "metadata": {},
   "source": [
    "Now we preview the first 3 rows in the data:"
   ]
  },
  {
   "cell_type": "code",
   "execution_count": 189,
   "metadata": {},
   "outputs": [
    {
     "name": "stdout",
     "output_type": "stream",
     "text": [
      "[['August 19, 1971', 'Santa Martha Acatitla', 'Mexico', 'Yes', 'Joel David Kaplan Carlos Antonio Contreras Castro'], ['October 31, 1973', 'Mountjoy Jail', 'Ireland', 'Yes', \"JB O'Hagan Seamus TwomeyKevin Mallon\"], ['May 24, 1978', 'United States Penitentiary, Marion', 'United States', 'No', 'Garrett Brock TrapnellMartin Joseph McNallyJames Kenneth Johnson']]\n"
     ]
    }
   ],
   "source": [
    "print(data[:3])"
   ]
  },
  {
   "cell_type": "markdown",
   "metadata": {},
   "source": [
    "## How has the number of prison escapes per year evolved over time?"
   ]
  },
  {
   "cell_type": "markdown",
   "metadata": {},
   "source": [
    "We first want to examine the number of prison escapes per year. To do so, we first need to find the range of years in the dataset. I create a function to extract the year and apply it to each date in the data: "
   ]
  },
  {
   "cell_type": "code",
   "execution_count": 190,
   "metadata": {},
   "outputs": [],
   "source": [
    "# function to extract year from date, \n",
    "# which is provided in the data as mm dd, yyyy\n",
    "def get_year(date_string):\n",
    "    # find year in the date string\n",
    "    year = int(re.findall(\"\\d{4}\", date_string)[0])\n",
    "    return year\n",
    "\n",
    "# apply function to each row in the data\n",
    "for row in data:\n",
    "    row[0] = fetch_year(row[0])"
   ]
  },
  {
   "cell_type": "markdown",
   "metadata": {},
   "source": [
    "We can confirm that the step above worked, by again examining the first three dates in the data:"
   ]
  },
  {
   "cell_type": "code",
   "execution_count": 191,
   "metadata": {},
   "outputs": [
    {
     "name": "stdout",
     "output_type": "stream",
     "text": [
      "1971\n",
      "1973\n",
      "1978\n"
     ]
    }
   ],
   "source": [
    "for row in data[:3]:\n",
    "    print(row[0])"
   ]
  },
  {
   "cell_type": "markdown",
   "metadata": {},
   "source": [
    "Next, we find the maximum and minimum dates in the data:"
   ]
  },
  {
   "cell_type": "code",
   "execution_count": 192,
   "metadata": {},
   "outputs": [
    {
     "name": "stdout",
     "output_type": "stream",
     "text": [
      "1971 2020\n"
     ]
    }
   ],
   "source": [
    "# find minimum and maximum years in the data\n",
    "min_year = min(data, key=lambda x: x[0])[0]\n",
    "max_year = max(data, key=lambda x: x[0])[0]\n",
    "\n",
    "print(min_year, max_year)"
   ]
  },
  {
   "cell_type": "markdown",
   "metadata": {},
   "source": [
    "We want to subsequently calculate the number of escape attempts by helicopter per year. So we create a new list of lists, where each list has two elements: a year, and how many attempts occurred in that year.\n",
    "\n",
    "The first step is creating the list of lists, with the year filled in and the number of attempts per year set to 0:"
   ]
  },
  {
   "cell_type": "code",
   "execution_count": 193,
   "metadata": {},
   "outputs": [],
   "source": [
    "attempts_per_year = []\n",
    "for y in range(min_year, max_year + 1):\n",
    "    attempts_per_year.append([y, 0])"
   ]
  },
  {
   "cell_type": "markdown",
   "metadata": {},
   "source": [
    "Next, we iterate over rows in the data, and years in the calculated range, to determine the number of escape attempts per year:"
   ]
  },
  {
   "cell_type": "code",
   "execution_count": 194,
   "metadata": {},
   "outputs": [
    {
     "name": "stdout",
     "output_type": "stream",
     "text": [
      "[[1971, 1], [1972, 0], [1973, 1], [1974, 0], [1975, 0], [1976, 0], [1977, 0], [1978, 1], [1979, 0], [1980, 0], [1981, 2], [1982, 0], [1983, 1], [1984, 0], [1985, 2], [1986, 3], [1987, 1], [1988, 1], [1989, 2], [1990, 1], [1991, 1], [1992, 2], [1993, 1], [1994, 0], [1995, 0], [1996, 1], [1997, 1], [1998, 0], [1999, 1], [2000, 2], [2001, 3], [2002, 2], [2003, 1], [2004, 0], [2005, 2], [2006, 1], [2007, 3], [2008, 0], [2009, 3], [2010, 1], [2011, 0], [2012, 1], [2013, 2], [2014, 1], [2015, 0], [2016, 1], [2017, 0], [2018, 1], [2019, 0], [2020, 1]]\n"
     ]
    }
   ],
   "source": [
    "for row in data:\n",
    "    for ya in attempts_per_year:\n",
    "        \n",
    "        y = ya[0] \n",
    "        \n",
    "        # if current row's year matches this year,\n",
    "        # then add to tally\n",
    "        if row[0] == y:\n",
    "            ya[1] += 1\n",
    "\n",
    "print(attempts_per_year)"
   ]
  },
  {
   "cell_type": "markdown",
   "metadata": {},
   "source": [
    "Having calculated the number of escape attempts per year, we can use a barplot to visualize the results:"
   ]
  },
  {
   "cell_type": "code",
   "execution_count": 195,
   "metadata": {},
   "outputs": [
    {
     "data": {
      "image/png": "[encoded data removed]",
      "text/plain": [
       "<Figure size 900x1300 with 1 Axes>"
      ]
     },
     "metadata": {},
     "output_type": "display_data"
    }
   ],
   "source": [
    "# convert attempts_per_year to dictionary for plotting\n",
    "d = {ya[0]:ya[1] for ya in attempts_per_year}\n",
    "\n",
    "# create vertical barplot\n",
    "plt.figure(figsize=(9, 13))\n",
    "axes = plt.axes()\n",
    "axes.get_xaxis().set_visible(False)\n",
    "spines = axes.spines\n",
    "spines['top'].set_visible(False)\n",
    "spines['right'].set_visible(False)\n",
    "spines['bottom'].set_visible(False)\n",
    "spines['left'].set_visible(False)\n",
    "ax = plt.barh(range(len(d)), list(d.values()), height = .5)\n",
    "plt.yticks(range(len(d)), list(d.keys()))\n",
    "plt.xticks(range(4), range(4))\n",
    "\n",
    "# show label with value for each bar\n",
    "rectangles = ax.patches\n",
    "for rectangle in rectangles:\n",
    "    x_value = rectangle.get_width()\n",
    "    y_value = rectangle.get_y() + rectangle.get_height() / 2\n",
    "    space = 5\n",
    "    ha = 'left'\n",
    "    label = \"{}\".format(x_value)\n",
    "    if x_value > 0:\n",
    "        plt.annotate(\n",
    "            label,\n",
    "            (x_value, y_value),\n",
    "            xytext=(space, 0),\n",
    "            textcoords=\"offset points\",\n",
    "            va='center',\n",
    "            ha=ha)\n",
    "\n",
    "plt.show()"
   ]
  },
  {
   "cell_type": "markdown",
   "metadata": {},
   "source": [
    "Based on the barplot, we can see that the highest number of escape attempts (6) occurred in the years 2001, 2007, and 2009. There is not a clear trend in escape attempts over time."
   ]
  },
  {
   "cell_type": "markdown",
   "metadata": {},
   "source": [
    "## In which countries are prison escapes by helicopter most common?"
   ]
  },
  {
   "cell_type": "markdown",
   "metadata": {},
   "source": [
    "Next, we will examine prison escape attempts by helicopter by country, to determine where in the world these attempts are most common. \n",
    "\n",
    "To do so, we work with the pandas dataframe version of the data (loaded above), which has a column `Country`. We can first examine which countries are included in the data:"
   ]
  },
  {
   "cell_type": "code",
   "execution_count": 196,
   "metadata": {},
   "outputs": [
    {
     "name": "stdout",
     "output_type": "stream",
     "text": [
      "['Mexico' 'Ireland' 'United States' 'France' 'Canada' 'Australia' 'Brazil'\n",
      " 'Italy' 'United Kingdom' 'Puerto Rico' 'Chile' 'Netherlands' 'Greece'\n",
      " 'Belgium' 'Russia']\n"
     ]
    }
   ],
   "source": [
    "print(df['Country'].unique())"
   ]
  },
  {
   "cell_type": "markdown",
   "metadata": {},
   "source": [
    "Next, we count the number of occurrences of each country in the data, using the pandas `value_counts()` function. This returns a series, with country as the index and value indicating the number of occurrences. I create a dataframe from the indices and values and display them nicely:"
   ]
  },
  {
   "cell_type": "code",
   "execution_count": 197,
   "metadata": {},
   "outputs": [
    {
     "data": {
      "text/html": [
       "<table border=\"1\" class=\"dataframe\">\n",
       "  <thead>\n",
       "    <tr style=\"text-align: right;\">\n",
       "      <th>Country</th>\n",
       "      <th>Number of Occurrences</th>\n",
       "    </tr>\n",
       "  </thead>\n",
       "  <tbody>\n",
       "    <tr>\n",
       "      <td>France</td>\n",
       "      <td>15</td>\n",
       "    </tr>\n",
       "    <tr>\n",
       "      <td>United States</td>\n",
       "      <td>8</td>\n",
       "    </tr>\n",
       "    <tr>\n",
       "      <td>Belgium</td>\n",
       "      <td>4</td>\n",
       "    </tr>\n",
       "    <tr>\n",
       "      <td>Greece</td>\n",
       "      <td>4</td>\n",
       "    </tr>\n",
       "    <tr>\n",
       "      <td>Canada</td>\n",
       "      <td>4</td>\n",
       "    </tr>\n",
       "    <tr>\n",
       "      <td>United Kingdom</td>\n",
       "      <td>2</td>\n",
       "    </tr>\n",
       "    <tr>\n",
       "      <td>Brazil</td>\n",
       "      <td>2</td>\n",
       "    </tr>\n",
       "    <tr>\n",
       "      <td>Australia</td>\n",
       "      <td>2</td>\n",
       "    </tr>\n",
       "    <tr>\n",
       "      <td>Puerto Rico</td>\n",
       "      <td>1</td>\n",
       "    </tr>\n",
       "    <tr>\n",
       "      <td>Chile</td>\n",
       "      <td>1</td>\n",
       "    </tr>\n",
       "    <tr>\n",
       "      <td>Mexico</td>\n",
       "      <td>1</td>\n",
       "    </tr>\n",
       "    <tr>\n",
       "      <td>Russia</td>\n",
       "      <td>1</td>\n",
       "    </tr>\n",
       "    <tr>\n",
       "      <td>Italy</td>\n",
       "      <td>1</td>\n",
       "    </tr>\n",
       "    <tr>\n",
       "      <td>Ireland</td>\n",
       "      <td>1</td>\n",
       "    </tr>\n",
       "    <tr>\n",
       "      <td>Netherlands</td>\n",
       "      <td>1</td>\n",
       "    </tr>\n",
       "  </tbody>\n",
       "</table>"
      ],
      "text/plain": [
       "<IPython.core.display.HTML object>"
      ]
     },
     "metadata": {},
     "output_type": "display_data"
    }
   ],
   "source": [
    "# get series with value counts\n",
    "countries_frequency = df['Country'].value_counts()\n",
    "\n",
    "# create dataframe from indices and values\n",
    "d = pd.DataFrame({'Country': countries_frequency.index,\n",
    "            'Number of Occurrences': countries_frequency.values})\n",
    "\n",
    "# show the table as HTML\n",
    "display(HTML(d.to_html(index=False)))"
   ]
  },
  {
   "cell_type": "markdown",
   "metadata": {},
   "source": [
    "From the table above, we can see that France has had the most attempted prison escapes by helicopter, with 15 total attempts. This is followed by the United States, which had 8 escape attempts documented in the data."
   ]
  },
  {
   "cell_type": "markdown",
   "metadata": {},
   "source": [
    "## What proportion of prison escape attempts were successful? Which countries had more successful than unsuccessful attempts?"
   ]
  },
  {
   "cell_type": "markdown",
   "metadata": {},
   "source": [
    "Finally, we will examine how many of the total escape attempts were successful.\n",
    "\n",
    "To first find the proportion of successful attempts, we calculate the proportion of successful attempts to total attempts:"
   ]
  },
  {
   "cell_type": "code",
   "execution_count": 198,
   "metadata": {},
   "outputs": [
    {
     "name": "stdout",
     "output_type": "stream",
     "text": [
      "0.7083333333333334\n"
     ]
    }
   ],
   "source": [
    "prop_success = len(df[df['Succeeded'] == 'Yes'])/len(df['Succeeded'])\n",
    "print(prop_success)"
   ]
  },
  {
   "cell_type": "markdown",
   "metadata": {},
   "source": [
    "So we can see that the majority (~70.8%) of escape attempts by helicopter were successful.\n",
    "\n",
    "Next, we examine attempt success by country. Specifically, we calculate the proportion of successful attempts by country. We return to the numpy array form of the data we used earlier in this report, and we start by finding the total number of successful and unsuccessful attempts per country:"
   ]
  },
  {
   "cell_type": "code",
   "execution_count": 199,
   "metadata": {},
   "outputs": [
    {
     "name": "stdout",
     "output_type": "stream",
     "text": [
      "[['Australia', 2, 1, 1], ['Netherlands', 1, 0, 1], ['Ireland', 1, 1, 0], ['Italy', 1, 1, 0], ['Russia', 1, 1, 0], ['Canada', 4, 3, 1], ['Greece', 4, 2, 2], ['Belgium', 4, 2, 2], ['Mexico', 1, 1, 0], ['Brazil', 2, 2, 0], ['United Kingdom', 2, 1, 1], ['Puerto Rico', 1, 1, 0], ['France', 15, 11, 4], ['United States', 8, 6, 2], ['Chile', 1, 1, 0]]\n"
     ]
    }
   ],
   "source": [
    "# list all countries in the data\n",
    "countries = []\n",
    "for row in data:\n",
    "    countries.append(row[2])\n",
    "\n",
    "# iterate over unique countries, creating a list of lists\n",
    "# to store total attempts, # successes and # failures for each country\n",
    "n_success_by_country = []\n",
    "for name in set(countries):\n",
    "    n_success_by_country.append([name, 0, 0, 0])\n",
    "    \n",
    "# iterate over rows in data and countries,\n",
    "# counting successes and failures for each \n",
    "for row in data:\n",
    "    for sf in n_success_by_country:\n",
    "        \n",
    "        country = sf[0] \n",
    "        \n",
    "        # if current row's country matches this country,\n",
    "        # then add to tally\n",
    "        if row[2] == country:\n",
    "            \n",
    "            # add to total attempts tally\n",
    "            sf[1] += 1\n",
    "            \n",
    "            # if success, add to success tally\n",
    "            if row[3] == 'Yes':\n",
    "                sf[2] += 1\n",
    "            \n",
    "            # if failure, add to failure tally\n",
    "            if row[3] == 'No':\n",
    "                sf[3] += 1\n",
    "\n",
    "print(n_success_by_country)"
   ]
  },
  {
   "cell_type": "markdown",
   "metadata": {},
   "source": [
    "Now that we have counted total attempts, number of successes, and number of failures by country, we can compute the proportion of successful attempts per country:"
   ]
  },
  {
   "cell_type": "code",
   "execution_count": 200,
   "metadata": {},
   "outputs": [],
   "source": [
    "for sf in n_success_by_country:\n",
    "    sf.append(sf[2]/sf[1])"
   ]
  },
  {
   "cell_type": "markdown",
   "metadata": {},
   "source": [
    "Now we can display the results in a nicely-formatted table, sorting the elements in order of (a) decreasing total attempts and (b) decreasing proportion of successful escape attempts:"
   ]
  },
  {
   "cell_type": "code",
   "execution_count": 209,
   "metadata": {},
   "outputs": [
    {
     "data": {
      "text/html": [
       "<table border=\"1\" class=\"dataframe\">\n",
       "  <thead>\n",
       "    <tr style=\"text-align: right;\">\n",
       "      <th>Country</th>\n",
       "      <th># attempts</th>\n",
       "      <th># successful</th>\n",
       "      <th># failed</th>\n",
       "      <th>Proportion success</th>\n",
       "    </tr>\n",
       "  </thead>\n",
       "  <tbody>\n",
       "    <tr>\n",
       "      <td>France</td>\n",
       "      <td>15</td>\n",
       "      <td>11</td>\n",
       "      <td>4</td>\n",
       "      <td>0.733333</td>\n",
       "    </tr>\n",
       "    <tr>\n",
       "      <td>United States</td>\n",
       "      <td>8</td>\n",
       "      <td>6</td>\n",
       "      <td>2</td>\n",
       "      <td>0.750000</td>\n",
       "    </tr>\n",
       "    <tr>\n",
       "      <td>Canada</td>\n",
       "      <td>4</td>\n",
       "      <td>3</td>\n",
       "      <td>1</td>\n",
       "      <td>0.750000</td>\n",
       "    </tr>\n",
       "    <tr>\n",
       "      <td>Greece</td>\n",
       "      <td>4</td>\n",
       "      <td>2</td>\n",
       "      <td>2</td>\n",
       "      <td>0.500000</td>\n",
       "    </tr>\n",
       "    <tr>\n",
       "      <td>Belgium</td>\n",
       "      <td>4</td>\n",
       "      <td>2</td>\n",
       "      <td>2</td>\n",
       "      <td>0.500000</td>\n",
       "    </tr>\n",
       "    <tr>\n",
       "      <td>Brazil</td>\n",
       "      <td>2</td>\n",
       "      <td>2</td>\n",
       "      <td>0</td>\n",
       "      <td>1.000000</td>\n",
       "    </tr>\n",
       "    <tr>\n",
       "      <td>Australia</td>\n",
       "      <td>2</td>\n",
       "      <td>1</td>\n",
       "      <td>1</td>\n",
       "      <td>0.500000</td>\n",
       "    </tr>\n",
       "    <tr>\n",
       "      <td>United Kingdom</td>\n",
       "      <td>2</td>\n",
       "      <td>1</td>\n",
       "      <td>1</td>\n",
       "      <td>0.500000</td>\n",
       "    </tr>\n",
       "    <tr>\n",
       "      <td>Ireland</td>\n",
       "      <td>1</td>\n",
       "      <td>1</td>\n",
       "      <td>0</td>\n",
       "      <td>1.000000</td>\n",
       "    </tr>\n",
       "    <tr>\n",
       "      <td>Italy</td>\n",
       "      <td>1</td>\n",
       "      <td>1</td>\n",
       "      <td>0</td>\n",
       "      <td>1.000000</td>\n",
       "    </tr>\n",
       "    <tr>\n",
       "      <td>Russia</td>\n",
       "      <td>1</td>\n",
       "      <td>1</td>\n",
       "      <td>0</td>\n",
       "      <td>1.000000</td>\n",
       "    </tr>\n",
       "    <tr>\n",
       "      <td>Mexico</td>\n",
       "      <td>1</td>\n",
       "      <td>1</td>\n",
       "      <td>0</td>\n",
       "      <td>1.000000</td>\n",
       "    </tr>\n",
       "    <tr>\n",
       "      <td>Puerto Rico</td>\n",
       "      <td>1</td>\n",
       "      <td>1</td>\n",
       "      <td>0</td>\n",
       "      <td>1.000000</td>\n",
       "    </tr>\n",
       "    <tr>\n",
       "      <td>Chile</td>\n",
       "      <td>1</td>\n",
       "      <td>1</td>\n",
       "      <td>0</td>\n",
       "      <td>1.000000</td>\n",
       "    </tr>\n",
       "    <tr>\n",
       "      <td>Netherlands</td>\n",
       "      <td>1</td>\n",
       "      <td>0</td>\n",
       "      <td>1</td>\n",
       "      <td>0.000000</td>\n",
       "    </tr>\n",
       "  </tbody>\n",
       "</table>"
      ],
      "text/plain": [
       "<IPython.core.display.HTML object>"
      ]
     },
     "metadata": {},
     "output_type": "display_data"
    }
   ],
   "source": [
    "d = pd.DataFrame(n_success_by_country,\n",
    "            columns=['Country', '# attempts', '# successful', '# failed', 'Proportion success'])\n",
    "d.sort_values(by=['# attempts','Proportion success'], \n",
    "              inplace=True,\n",
    "              ascending=False)\n",
    "\n",
    "# show the table as HTML\n",
    "display(HTML(d.to_html(index=False)))"
   ]
  },
  {
   "cell_type": "markdown",
   "metadata": {},
   "source": [
    "From the table above, we can see that countries with a high total number of attempts also had high proportions of successful attempts."
   ]
  }
 ],
 "metadata": {
  "kernelspec": {
   "display_name": "Python 3",
   "language": "python",
   "name": "python3"
  },
  "language_info": {
   "codemirror_mode": {
    "name": "ipython",
    "version": 3
   },
   "file_extension": ".py",
   "mimetype": "text/x-python",
   "name": "python",
   "nbconvert_exporter": "python",
   "pygments_lexer": "ipython3",
   "version": "3.8.2"
  }
 },
 "nbformat": 4,
 "nbformat_minor": 2
}
